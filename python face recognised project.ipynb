{
 "cells": [
  {
   "cell_type": "code",
   "execution_count": 1,
   "id": "f18ce005-ea74-47dc-b158-bdbc1b7a8adc",
   "metadata": {},
   "outputs": [],
   "source": [
    "import cv2"
   ]
  },
  {
   "cell_type": "code",
   "execution_count": 2,
   "id": "b0dd1967-7853-4696-ba45-72c6fcc8d29d",
   "metadata": {},
   "outputs": [
    {
     "name": "stdout",
     "output_type": "stream",
     "text": [
      "Requirement already satisfied: opencv-python in c:\\users\\admin\\anaconda3\\lib\\site-packages (4.10.0.84)\n",
      "Requirement already satisfied: numpy>=1.21.2 in c:\\users\\admin\\anaconda3\\lib\\site-packages (from opencv-python) (1.26.4)\n"
     ]
    }
   ],
   "source": [
    "!pip install opencv-python"
   ]
  },
  {
   "cell_type": "code",
   "execution_count": 3,
   "id": "ac5fd3db-4902-4f4a-84d3-8aa4d9029cf1",
   "metadata": {},
   "outputs": [],
   "source": [
    "import cv2                      "
   ]
  },
  {
   "cell_type": "code",
   "execution_count": 4,
   "id": "004b78f7-ef43-4d9e-a53e-5cab9d1c8b80",
   "metadata": {},
   "outputs": [],
   "source": [
    "\n",
    "\n",
    "# Load the pre-trained Haar Cascade classifier for face detection\n",
    "face_cascade = cv2.CascadeClassifier(cv2.data.haarcascades + 'haarcascade_frontalface_default.xml')\n",
    "\n",
    "# Function for detecting faces in an image\n",
    "def detect_faces_image(image_path):\n",
    "    # Load the image\n",
    "    img = cv2.imread(image_path)\n",
    "    gray = cv2.cvtColor(img, cv2.COLOR_BGR2GRAY)  # Convert to grayscale\n",
    "\n",
    "    # Detect faces\n",
    "    faces = face_cascade.detectMultiScale(gray, scaleFactor=1.1, minNeighbors=5, minSize=(30, 30))\n",
    "\n",
    "    # Draw rectangles around faces\n",
    "    for (x, y, w, h) in faces:\n",
    "        cv2.rectangle(img, (x, y), (x+w, y+h), (255, 0, 0), 2)\n",
    "\n",
    "    # Display the output\n",
    "    cv2.imshow('Detected Faces', img)\n",
    "    cv2.waitKey(0)\n",
    "    cv2.destroyAllWindows()\n",
    "\n",
    "# Function for detecting faces in a video feed (webcam)\n",
    "def detect_faces_video():\n",
    "    # Open the default webcam\n",
    "    cap = cv2.VideoCapture(0)\n",
    "\n",
    "    while True:\n",
    "        # Capture frame-by-frame\n",
    "        ret, frame = cap.read()\n",
    "\n",
    "        # Convert the frame to grayscale\n",
    "        gray = cv2.cvtColor(frame, cv2.COLOR_BGR2GRAY)\n",
    "\n",
    "        # Detect faces in the frame\n",
    "        faces = face_cascade.detectMultiScale(gray, scaleFactor=1.1, minNeighbors=5, minSize=(30, 30))\n",
    "\n",
    "        # Draw rectangles around faces\n",
    "        for (x, y, w, h) in faces:\n",
    "            cv2.rectangle(frame, (x, y), (x+w, y+h), (255, 0, 0), 2)\n",
    "\n",
    "        # Display the resulting frame\n",
    "        cv2.imshow('Face Detection', frame)\n",
    "\n",
    "        # Break the loop if 'q' is pressed\n",
    "        if cv2.waitKey(1) & 0xFF == ord('q'):\n",
    "            break\n",
    "\n",
    "    # Release the capture and close all windows\n",
    "    cap.release()\n",
    "    cv2.destroyAllWindowso()\n"
   ]
  },
  {
   "cell_type": "code",
   "execution_count": 5,
   "id": "caf6ab19-e780-4f29-b6b8-12fa9ffa15d0",
   "metadata": {},
   "outputs": [],
   "source": [
    "import csv"
   ]
  },
  {
   "cell_type": "code",
   "execution_count": 6,
   "id": "736a700d-1cbb-4bc8-9cf3-355e92d48c89",
   "metadata": {},
   "outputs": [],
   "source": [
    "import os"
   ]
  },
  {
   "cell_type": "code",
   "execution_count": null,
   "id": "3dc8e360-aeac-4c80-81b2-1411060ecee2",
   "metadata": {},
   "outputs": [],
   "source": [
    "import cv2\n",
    "\n",
    "face_cascade = cv2.CascadeClassifier(cv2.data.haarcascades + 'haarcascade_frontalface_default.xml')            # Load the pre-trained Haar Cascade classifier for face detection\n",
    "\n",
    "def detect_faces_video():                                                   # Function for detecting faces in a video feed (webcam)\n",
    "    \n",
    "    cap = cv2.VideoCapture(0)                                               # Open the default webcam (if index 0 doesn't work, try 1 or 2)\n",
    "\n",
    "    if not cap.isOpened():\n",
    "        print(\"Error: Could not open webcam.\")\n",
    "        return\n",
    "\n",
    "    while True:\n",
    "       \n",
    "        ret, frame = cap.read()                                            # Capture frame-by-frame\n",
    "\n",
    "       \n",
    "        if not ret:                                                        # If frame read correctly, ret is True\n",
    "            print(\"Failed to grab frame\")\n",
    "            break\n",
    "\n",
    "        \n",
    "        gray = cv2.cvtColor(frame, cv2.COLOR_BGR2GRAY)\n",
    "\n",
    "        \n",
    "        faces = face_cascade.detectMultiScale(gray, scaleFactor=1.1, minNeighbors=5, minSize=(30, 30))              # Detect faces in the frame\n",
    "\n",
    "    \n",
    "        for (x, y, w, h) in faces:                                         # Draw rectangles around faces\n",
    "            cv2.rectangle(frame, (x, y), (x+w, y+h), (255, 0, 0), 2)\n",
    "\n",
    "    \n",
    "        cv2.imshow('Face Detection', frame)                               # Display the resulting frame\n",
    "\n",
    "       \n",
    "        if cv2.waitKey(1) & 0xFF == ord('q'):                              # Break the loop if 'q' is pressed\n",
    "            break\n",
    "\n",
    "    \n",
    "    cap.release()                                                         # Release the capture and close all windows\n",
    "    cv2.destroyAllWindows()\n",
    "\n",
    "detect_faces_video()                                                      # Call the function to start detecting faces\n"
   ]
  }
 ],
 "metadata": {
  "kernelspec": {
   "display_name": "Python 3 (ipykernel)",
   "language": "python",
   "name": "python3"
  },
  "language_info": {
   "codemirror_mode": {
    "name": "ipython",
    "version": 3
   },
   "file_extension": ".py",
   "mimetype": "text/x-python",
   "name": "python",
   "nbconvert_exporter": "python",
   "pygments_lexer": "ipython3",
   "version": "3.12.4"
  }
 },
 "nbformat": 4,
 "nbformat_minor": 5
}
